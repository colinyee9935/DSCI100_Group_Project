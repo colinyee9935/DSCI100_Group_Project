{
 "cells": [
  {
   "cell_type": "code",
   "execution_count": 2,
   "id": "a4ecf0ff-3537-42e6-b84a-276db10feb41",
   "metadata": {},
   "outputs": [
    {
     "name": "stderr",
     "output_type": "stream",
     "text": [
      "── \u001b[1mAttaching core tidyverse packages\u001b[22m ──────────────────────── tidyverse 2.0.0 ──\n",
      "\u001b[32m✔\u001b[39m \u001b[34mdplyr    \u001b[39m 1.1.3     \u001b[32m✔\u001b[39m \u001b[34mreadr    \u001b[39m 2.1.4\n",
      "\u001b[32m✔\u001b[39m \u001b[34mforcats  \u001b[39m 1.0.0     \u001b[32m✔\u001b[39m \u001b[34mstringr  \u001b[39m 1.5.0\n",
      "\u001b[32m✔\u001b[39m \u001b[34mggplot2  \u001b[39m 3.4.4     \u001b[32m✔\u001b[39m \u001b[34mtibble   \u001b[39m 3.2.1\n",
      "\u001b[32m✔\u001b[39m \u001b[34mlubridate\u001b[39m 1.9.3     \u001b[32m✔\u001b[39m \u001b[34mtidyr    \u001b[39m 1.3.0\n",
      "\u001b[32m✔\u001b[39m \u001b[34mpurrr    \u001b[39m 1.0.2     \n",
      "── \u001b[1mConflicts\u001b[22m ────────────────────────────────────────── tidyverse_conflicts() ──\n",
      "\u001b[31m✖\u001b[39m \u001b[34mdplyr\u001b[39m::\u001b[32mfilter()\u001b[39m masks \u001b[34mstats\u001b[39m::filter()\n",
      "\u001b[31m✖\u001b[39m \u001b[34mdplyr\u001b[39m::\u001b[32mlag()\u001b[39m    masks \u001b[34mstats\u001b[39m::lag()\n",
      "\u001b[36mℹ\u001b[39m Use the conflicted package (\u001b[3m\u001b[34m<http://conflicted.r-lib.org/>\u001b[39m\u001b[23m) to force all conflicts to become errors\n",
      "── \u001b[1mAttaching packages\u001b[22m ────────────────────────────────────── tidymodels 1.1.1 ──\n",
      "\n",
      "\u001b[32m✔\u001b[39m \u001b[34mbroom       \u001b[39m 1.0.5     \u001b[32m✔\u001b[39m \u001b[34mrsample     \u001b[39m 1.2.0\n",
      "\u001b[32m✔\u001b[39m \u001b[34mdials       \u001b[39m 1.2.0     \u001b[32m✔\u001b[39m \u001b[34mtune        \u001b[39m 1.1.2\n",
      "\u001b[32m✔\u001b[39m \u001b[34minfer       \u001b[39m 1.0.5     \u001b[32m✔\u001b[39m \u001b[34mworkflows   \u001b[39m 1.1.3\n",
      "\u001b[32m✔\u001b[39m \u001b[34mmodeldata   \u001b[39m 1.2.0     \u001b[32m✔\u001b[39m \u001b[34mworkflowsets\u001b[39m 1.0.1\n",
      "\u001b[32m✔\u001b[39m \u001b[34mparsnip     \u001b[39m 1.1.1     \u001b[32m✔\u001b[39m \u001b[34myardstick   \u001b[39m 1.2.0\n",
      "\u001b[32m✔\u001b[39m \u001b[34mrecipes     \u001b[39m 1.0.8     \n",
      "\n",
      "── \u001b[1mConflicts\u001b[22m ───────────────────────────────────────── tidymodels_conflicts() ──\n",
      "\u001b[31m✖\u001b[39m \u001b[34mscales\u001b[39m::\u001b[32mdiscard()\u001b[39m masks \u001b[34mpurrr\u001b[39m::discard()\n",
      "\u001b[31m✖\u001b[39m \u001b[34mdplyr\u001b[39m::\u001b[32mfilter()\u001b[39m   masks \u001b[34mstats\u001b[39m::filter()\n",
      "\u001b[31m✖\u001b[39m \u001b[34mrecipes\u001b[39m::\u001b[32mfixed()\u001b[39m  masks \u001b[34mstringr\u001b[39m::fixed()\n",
      "\u001b[31m✖\u001b[39m \u001b[34mdplyr\u001b[39m::\u001b[32mlag()\u001b[39m      masks \u001b[34mstats\u001b[39m::lag()\n",
      "\u001b[31m✖\u001b[39m \u001b[34myardstick\u001b[39m::\u001b[32mspec()\u001b[39m masks \u001b[34mreadr\u001b[39m::spec()\n",
      "\u001b[31m✖\u001b[39m \u001b[34mrecipes\u001b[39m::\u001b[32mstep()\u001b[39m   masks \u001b[34mstats\u001b[39m::step()\n",
      "\u001b[34m•\u001b[39m Use \u001b[32mtidymodels_prefer()\u001b[39m to resolve common conflicts.\n",
      "\n",
      "Warning message in file(filename, \"r\", encoding = encoding):\n",
      "“cannot open file 'tests.R': No such file or directory”\n"
     ]
    },
    {
     "ename": "ERROR",
     "evalue": "Error in file(filename, \"r\", encoding = encoding): cannot open the connection\n",
     "output_type": "error",
     "traceback": [
      "Error in file(filename, \"r\", encoding = encoding): cannot open the connection\nTraceback:\n",
      "1. source(\"tests.R\")",
      "2. file(filename, \"r\", encoding = encoding)"
     ]
    }
   ],
   "source": [
    "library(tidyverse)\n",
    "library(repr)\n",
    "library(tidymodels)\n",
    "options(repr.matrix.max.rows = 10)\n",
    "source('tests.R')\n",
    "source(\"cleanup.R\")"
   ]
  },
  {
   "cell_type": "code",
   "execution_count": 72,
   "id": "7434a772-0ca8-4a24-9e09-415c670c8da7",
   "metadata": {},
   "outputs": [
    {
     "name": "stderr",
     "output_type": "stream",
     "text": [
      "\u001b[1mRows: \u001b[22m\u001b[34m320\u001b[39m \u001b[1mColumns: \u001b[22m\u001b[34m8\u001b[39m\n",
      "\u001b[36m──\u001b[39m \u001b[1mColumn specification\u001b[22m \u001b[36m────────────────────────────────────────────────────────\u001b[39m\n",
      "\u001b[1mDelimiter:\u001b[22m \",\"\n",
      "\u001b[31mchr\u001b[39m (4): School Name, Region, Mid-Career 10th Percentile Salary, Mid-Career ...\n",
      "\u001b[32mdbl\u001b[39m (4): Starting Median Salary, Mid-Career Median Salary, Mid-Career 25th P...\n",
      "\n",
      "\u001b[36mℹ\u001b[39m Use `spec()` to retrieve the full column specification for this data.\n",
      "\u001b[36mℹ\u001b[39m Specify the column types or set `show_col_types = FALSE` to quiet this message.\n"
     ]
    },
    {
     "data": {
      "text/html": [
       "<table class=\"dataframe\">\n",
       "<caption>A tibble: 320 × 4</caption>\n",
       "<thead>\n",
       "\t<tr><th scope=col>school_name</th><th scope=col>region</th><th scope=col>starting_median_salary</th><th scope=col>mid_career_median_salary</th></tr>\n",
       "\t<tr><th scope=col>&lt;chr&gt;</th><th scope=col>&lt;chr&gt;</th><th scope=col>&lt;dbl&gt;</th><th scope=col>&lt;dbl&gt;</th></tr>\n",
       "</thead>\n",
       "<tbody>\n",
       "\t<tr><td>Stanford University                     </td><td>California</td><td>70400</td><td>129000</td></tr>\n",
       "\t<tr><td>California Institute of Technology (CIT)</td><td>California</td><td>75500</td><td>123000</td></tr>\n",
       "\t<tr><td>Harvey Mudd College                     </td><td>California</td><td>71800</td><td>122000</td></tr>\n",
       "\t<tr><td>University of California Berkeley       </td><td>California</td><td>59900</td><td>112000</td></tr>\n",
       "\t<tr><td>Occidental College                      </td><td>California</td><td>51900</td><td>105000</td></tr>\n",
       "\t<tr><td>⋮</td><td>⋮</td><td>⋮</td><td>⋮</td></tr>\n",
       "\t<tr><td>State University of New York (SUNY) at Potsdam </td><td>Northeastern</td><td>38000</td><td>70300</td></tr>\n",
       "\t<tr><td>Niagara University                             </td><td>Northeastern</td><td>36900</td><td>69700</td></tr>\n",
       "\t<tr><td>State University of New York (SUNY) at Fredonia</td><td>Northeastern</td><td>37800</td><td>66200</td></tr>\n",
       "\t<tr><td>University of Southern Maine                   </td><td>Northeastern</td><td>39400</td><td>63600</td></tr>\n",
       "\t<tr><td>Mercy College                                  </td><td>Northeastern</td><td>43700</td><td>62600</td></tr>\n",
       "</tbody>\n",
       "</table>\n"
      ],
      "text/latex": [
       "A tibble: 320 × 4\n",
       "\\begin{tabular}{llll}\n",
       " school\\_name & region & starting\\_median\\_salary & mid\\_career\\_median\\_salary\\\\\n",
       " <chr> & <chr> & <dbl> & <dbl>\\\\\n",
       "\\hline\n",
       "\t Stanford University                      & California & 70400 & 129000\\\\\n",
       "\t California Institute of Technology (CIT) & California & 75500 & 123000\\\\\n",
       "\t Harvey Mudd College                      & California & 71800 & 122000\\\\\n",
       "\t University of California Berkeley        & California & 59900 & 112000\\\\\n",
       "\t Occidental College                       & California & 51900 & 105000\\\\\n",
       "\t ⋮ & ⋮ & ⋮ & ⋮\\\\\n",
       "\t State University of New York (SUNY) at Potsdam  & Northeastern & 38000 & 70300\\\\\n",
       "\t Niagara University                              & Northeastern & 36900 & 69700\\\\\n",
       "\t State University of New York (SUNY) at Fredonia & Northeastern & 37800 & 66200\\\\\n",
       "\t University of Southern Maine                    & Northeastern & 39400 & 63600\\\\\n",
       "\t Mercy College                                   & Northeastern & 43700 & 62600\\\\\n",
       "\\end{tabular}\n"
      ],
      "text/markdown": [
       "\n",
       "A tibble: 320 × 4\n",
       "\n",
       "| school_name &lt;chr&gt; | region &lt;chr&gt; | starting_median_salary &lt;dbl&gt; | mid_career_median_salary &lt;dbl&gt; |\n",
       "|---|---|---|---|\n",
       "| Stanford University                      | California | 70400 | 129000 |\n",
       "| California Institute of Technology (CIT) | California | 75500 | 123000 |\n",
       "| Harvey Mudd College                      | California | 71800 | 122000 |\n",
       "| University of California Berkeley        | California | 59900 | 112000 |\n",
       "| Occidental College                       | California | 51900 | 105000 |\n",
       "| ⋮ | ⋮ | ⋮ | ⋮ |\n",
       "| State University of New York (SUNY) at Potsdam  | Northeastern | 38000 | 70300 |\n",
       "| Niagara University                              | Northeastern | 36900 | 69700 |\n",
       "| State University of New York (SUNY) at Fredonia | Northeastern | 37800 | 66200 |\n",
       "| University of Southern Maine                    | Northeastern | 39400 | 63600 |\n",
       "| Mercy College                                   | Northeastern | 43700 | 62600 |\n",
       "\n"
      ],
      "text/plain": [
       "    school_name                                     region      \n",
       "1   Stanford University                             California  \n",
       "2   California Institute of Technology (CIT)        California  \n",
       "3   Harvey Mudd College                             California  \n",
       "4   University of California Berkeley               California  \n",
       "5   Occidental College                              California  \n",
       "⋮   ⋮                                               ⋮           \n",
       "316 State University of New York (SUNY) at Potsdam  Northeastern\n",
       "317 Niagara University                              Northeastern\n",
       "318 State University of New York (SUNY) at Fredonia Northeastern\n",
       "319 University of Southern Maine                    Northeastern\n",
       "320 Mercy College                                   Northeastern\n",
       "    starting_median_salary mid_career_median_salary\n",
       "1   70400                  129000                  \n",
       "2   75500                  123000                  \n",
       "3   71800                  122000                  \n",
       "4   59900                  112000                  \n",
       "5   51900                  105000                  \n",
       "⋮   ⋮                      ⋮                       \n",
       "316 38000                  70300                   \n",
       "317 36900                  69700                   \n",
       "318 37800                  66200                   \n",
       "319 39400                  63600                   \n",
       "320 43700                  62600                   "
      ]
     },
     "metadata": {},
     "output_type": "display_data"
    }
   ],
   "source": [
    "#Kaggle requires an APIs for access but the document itself is free for public use\n",
    "#It allows us to directly download it from the website so we downloaded the file then loaded it into R\n",
    "\n",
    "salary_region<-read_csv(\"data/salaries_by_region.csv\")\n",
    "\n",
    "salary_region <- salary_region |>\n",
    "    rename_with(~str_to_lower(.) |>              #reformat the column names into lower case and replace space with underscores\n",
    "                str_replace_all(\"[^[:alnum:]]+\", \"_\"), .cols = everything())|>\n",
    "    select(school_name:mid_career_median_salary)\n",
    "salary_region"
   ]
  }
 ],
 "metadata": {
  "kernelspec": {
   "display_name": "R",
   "language": "R",
   "name": "ir"
  },
  "language_info": {
   "codemirror_mode": "r",
   "file_extension": ".r",
   "mimetype": "text/x-r-source",
   "name": "R",
   "pygments_lexer": "r",
   "version": "4.3.1"
  }
 },
 "nbformat": 4,
 "nbformat_minor": 5
}
