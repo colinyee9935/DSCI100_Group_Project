{
 "cells": [
  {
   "cell_type": "markdown",
   "id": "2de19aef-2d5d-4e19-96b5-1b628fe914c8",
   "metadata": {},
   "source": [
    "## An Investigation in classifying Alumni’s College Regions using respective Salaries"
   ]
  },
  {
   "cell_type": "markdown",
   "id": "8292b36b-5577-4ac9-a23a-080c6351a147",
   "metadata": {},
   "source": [
    "## INTRODUCTION\n",
    "\n",
    "Our data set takes many colleges, and groups them according to where they’re located by region. Along with the region, our data set has the starting median salary, along with the mid-career median salary which further aids classification. \n",
    "\n",
    "**Classification question: Given a person’ entry level and mid-career salary, which region did they most likely attend colleges in?**\n",
    "\n",
    "The data set we are using from Where it pays to attend college is “Salaries for colleges by region”, collected from The Wall Street Journal, Payscale Inc. This data frame provides the average entry level salary and mid-career salary from colleges in the U.S., which are classified by the regions the colleges are located in. We intend to use K-nearest neighbors classification to examine the data set, whereby we predict new observations (colleges that are not within our data sets) into a region based on their entry and mid-career salary using K numbers of closest entry and mid-career salary in the set.\r\n",
    "\r\n"
   ]
  },
  {
   "cell_type": "code",
   "execution_count": 1,
   "id": "a4ecf0ff-3537-42e6-b84a-276db10feb41",
   "metadata": {
    "scrolled": true
   },
   "outputs": [
    {
     "name": "stderr",
     "output_type": "stream",
     "text": [
      "── \u001b[1mAttaching core tidyverse packages\u001b[22m ──────────────────────── tidyverse 2.0.0 ──\n",
      "\u001b[32m✔\u001b[39m \u001b[34mdplyr    \u001b[39m 1.1.3     \u001b[32m✔\u001b[39m \u001b[34mreadr    \u001b[39m 2.1.4\n",
      "\u001b[32m✔\u001b[39m \u001b[34mforcats  \u001b[39m 1.0.0     \u001b[32m✔\u001b[39m \u001b[34mstringr  \u001b[39m 1.5.0\n",
      "\u001b[32m✔\u001b[39m \u001b[34mggplot2  \u001b[39m 3.4.4     \u001b[32m✔\u001b[39m \u001b[34mtibble   \u001b[39m 3.2.1\n",
      "\u001b[32m✔\u001b[39m \u001b[34mlubridate\u001b[39m 1.9.3     \u001b[32m✔\u001b[39m \u001b[34mtidyr    \u001b[39m 1.3.0\n",
      "\u001b[32m✔\u001b[39m \u001b[34mpurrr    \u001b[39m 1.0.2     \n",
      "── \u001b[1mConflicts\u001b[22m ────────────────────────────────────────── tidyverse_conflicts() ──\n",
      "\u001b[31m✖\u001b[39m \u001b[34mdplyr\u001b[39m::\u001b[32mfilter()\u001b[39m masks \u001b[34mstats\u001b[39m::filter()\n",
      "\u001b[31m✖\u001b[39m \u001b[34mdplyr\u001b[39m::\u001b[32mlag()\u001b[39m    masks \u001b[34mstats\u001b[39m::lag()\n",
      "\u001b[36mℹ\u001b[39m Use the conflicted package (\u001b[3m\u001b[34m<http://conflicted.r-lib.org/>\u001b[39m\u001b[23m) to force all conflicts to become errors\n",
      "── \u001b[1mAttaching packages\u001b[22m ────────────────────────────────────── tidymodels 1.1.1 ──\n",
      "\n",
      "\u001b[32m✔\u001b[39m \u001b[34mbroom       \u001b[39m 1.0.5     \u001b[32m✔\u001b[39m \u001b[34mrsample     \u001b[39m 1.2.0\n",
      "\u001b[32m✔\u001b[39m \u001b[34mdials       \u001b[39m 1.2.0     \u001b[32m✔\u001b[39m \u001b[34mtune        \u001b[39m 1.1.2\n",
      "\u001b[32m✔\u001b[39m \u001b[34minfer       \u001b[39m 1.0.5     \u001b[32m✔\u001b[39m \u001b[34mworkflows   \u001b[39m 1.1.3\n",
      "\u001b[32m✔\u001b[39m \u001b[34mmodeldata   \u001b[39m 1.2.0     \u001b[32m✔\u001b[39m \u001b[34mworkflowsets\u001b[39m 1.0.1\n",
      "\u001b[32m✔\u001b[39m \u001b[34mparsnip     \u001b[39m 1.1.1     \u001b[32m✔\u001b[39m \u001b[34myardstick   \u001b[39m 1.2.0\n",
      "\u001b[32m✔\u001b[39m \u001b[34mrecipes     \u001b[39m 1.0.8     \n",
      "\n",
      "── \u001b[1mConflicts\u001b[22m ───────────────────────────────────────── tidymodels_conflicts() ──\n",
      "\u001b[31m✖\u001b[39m \u001b[34mscales\u001b[39m::\u001b[32mdiscard()\u001b[39m masks \u001b[34mpurrr\u001b[39m::discard()\n",
      "\u001b[31m✖\u001b[39m \u001b[34mdplyr\u001b[39m::\u001b[32mfilter()\u001b[39m   masks \u001b[34mstats\u001b[39m::filter()\n",
      "\u001b[31m✖\u001b[39m \u001b[34mrecipes\u001b[39m::\u001b[32mfixed()\u001b[39m  masks \u001b[34mstringr\u001b[39m::fixed()\n",
      "\u001b[31m✖\u001b[39m \u001b[34mdplyr\u001b[39m::\u001b[32mlag()\u001b[39m      masks \u001b[34mstats\u001b[39m::lag()\n",
      "\u001b[31m✖\u001b[39m \u001b[34myardstick\u001b[39m::\u001b[32mspec()\u001b[39m masks \u001b[34mreadr\u001b[39m::spec()\n",
      "\u001b[31m✖\u001b[39m \u001b[34mrecipes\u001b[39m::\u001b[32mstep()\u001b[39m   masks \u001b[34mstats\u001b[39m::step()\n",
      "\u001b[34m•\u001b[39m Learn how to get started at \u001b[32mhttps://www.tidymodels.org/start/\u001b[39m\n",
      "\n",
      "Warning message in file(filename, \"r\", encoding = encoding):\n",
      "“cannot open file 'tests.R': No such file or directory”\n"
     ]
    },
    {
     "ename": "ERROR",
     "evalue": "Error in file(filename, \"r\", encoding = encoding): cannot open the connection\n",
     "output_type": "error",
     "traceback": [
      "Error in file(filename, \"r\", encoding = encoding): cannot open the connection\nTraceback:\n",
      "1. source(\"tests.R\")",
      "2. file(filename, \"r\", encoding = encoding)"
     ]
    }
   ],
   "source": [
    "library(tidyverse)\n",
    "library(repr)\n",
    "library(tidymodels)\n",
    "options(repr.matrix.max.rows = 6)\n",
    "source('tests.R')\n",
    "source(\"cleanup.R\")"
   ]
  },
  {
   "cell_type": "markdown",
   "id": "1d8d1f83-a7c7-4a44-bf28-24c27b0e7d5a",
   "metadata": {},
   "source": [
    "## EXPLORATORY DATA ANALYSIS"
   ]
  },
  {
   "cell_type": "code",
   "execution_count": null,
   "id": "7434a772-0ca8-4a24-9e09-415c670c8da7",
   "metadata": {},
   "outputs": [],
   "source": [
    "download.file(\"https://raw.githubusercontent.com/colinyee9935/DSCI100_Group_Project/main/data/salaries_by_region.csv\", \"salary_region.csv\")\n",
    "salary_region<-read_csv(\"salary_region.csv\")\n",
    "\n",
    "salary_region <- salary_region |>\n",
    "    rename_with(~str_to_lower(.) |>              #reformat the column names into lower case and replace space with underscores\n",
    "                str_replace_all(\"[^[:alnum:]]+\", \"_\"), .cols = everything())|>\n",
    "    mutate(mid_career_10th_percentile_salary = na_if(mid_career_10th_percentile_salary, \"N/A\"))|>\n",
    "    mutate(mid_career_90th_percentile_salary = na_if(mid_career_90th_percentile_salary, \"N/A\"))|>\n",
    "\n",
    "#turning column to dbl\n",
    "    mutate(mid_career_10th_percentile_salary_d=as.numeric(mid_career_10th_percentile_salary))|>\n",
    "    mutate(mid_career_90th_percentile_salary_d=as.numeric(mid_career_90th_percentile_salary))|>\n",
    "    select(-mid_career_10th_percentile_salary,-mid_career_90th_percentile_salary)|>\n",
    "\n",
    "#rearranging columns\n",
    "    select(1:4, mid_career_10th_percentile_salary_d, everything(), mid_career_90th_percentile_salary_d)|>\n",
    "    rename(midc_10th_salary = mid_career_10th_percentile_salary_d,\n",
    "          midc_25th_salary= mid_career_25th_percentile_salary,\n",
    "          midc_75th_salary=mid_career_75th_percentile_salary,\n",
    "          midc_90th_salary=mid_career_90th_percentile_salary_d)\n",
    "    \n",
    "\n",
    "#    select(school_name:mid_career_median_salary)\n",
    "salary_region"
   ]
  },
  {
   "cell_type": "code",
   "execution_count": null,
   "id": "a6f7e597-7cdf-4886-9662-1200a1ed84c9",
   "metadata": {},
   "outputs": [],
   "source": [
    "#graphing of data sets: starting median salary and mid career median salary\n",
    "#distribution of the two definitive data we'll be using\n",
    "\n",
    "options(repr.plot.width = 10, repr.plot.height = 10)\n",
    "\n",
    "salary_region_graph<-salary_region|>\n",
    "    ggplot(aes(x=starting_median_salary, y=mid_career_median_salary, color=region))+\n",
    "    geom_point(alpha = 0.4)+\n",
    "    labs(x=\"Starting Median Salary($)\",\n",
    "        y=\"Mid Career Median Salary($)\",\n",
    "        color=\"Regions\")+\n",
    "    scale_color_brewer(palette = \"Dark2\")+\n",
    "    theme(text=element_text(size=15))\n",
    "\n",
    "salary_region_graph\n",
    "\n",
    "#the distribution has some distinct characteristics to it - a large group of data points are clustered in the box formulated by x(40000,50000) and y(70000,90000).\n",
    "#Classification within this range might becomes obscure as data points affialited to each region is really close toghether\n",
    "#Thus, we should be cautious with this and test-retest our model with different set when incorporating only these two data if we do not include percentile data columns"
   ]
  },
  {
   "cell_type": "code",
   "execution_count": null,
   "id": "def9c92f-2a5b-49ad-a7f6-025d7e89cc36",
   "metadata": {},
   "outputs": [],
   "source": [
    "#investigate the number of observations in each region\n",
    "#this is important in finding whether each group has sufficient data points for reference\n",
    "\n",
    "region_count<-salary_region|>\n",
    "    group_by(region)|>\n",
    "    summarize(count=n())\n",
    "region_count\n",
    "\n",
    "#from the table below, we can see that there are an unbalance observation between regions\n",
    "#Observations go as low as only 28 in California, which makes sense since it's only one state\n",
    "#but since the socioeconomic status in Calfornia is largely different from many other states in the U.S.\n",
    "#it's understandable that it stands on it's own, as it has almost the highest median income and best educational resources\n",
    "#Observation go as high as 100 in Northeastern. This disparity in the number of observations post a potential confounding to our analysis,\n",
    "#as it's going to affect the model which ultimately impact the predications. We need to procede with caution and be critical on our findings."
   ]
  },
  {
   "cell_type": "code",
   "execution_count": null,
   "id": "4be83ce0-1c38-479d-bcc7-e39d3c2a7419",
   "metadata": {},
   "outputs": [],
   "source": [
    "#counting the missing data points in certain columnds of the data table\n",
    "#this is signigicant in deciding whether we should incorporate percentile column in our classification model for increasing accuracy\n",
    "\n",
    "columns_to_check <- c(\"midc_10th_salary\", \"midc_25th_salary\", \"midc_75th_salary\", \"midc_90th_salary\")\n",
    "\n",
    "missing_counts <- salary_region |>\n",
    "    summarize(across(all_of(columns_to_check), ~ sum(is.na(.), na.rm = TRUE)))\n",
    "missing_counts\n",
    "\n",
    "#The following table shows the number of missing data in each percentile salary column.\n",
    "#We can see that for 10th, 90th percentile there are 47 missing data and none for the other two.\n",
    "#This is about 15% of the entire set, which is quite a significant amount that poses potential confoundings in our model\n",
    "#As for some regions that has lower number of observation, such as California, the issue becomes prominent as they are weighed less if a data is missing\n",
    "#Nonetheless, we could incorporate 25th and 75th percentile to increase the accuracy of the data set as they contain no missing data."
   ]
  },
  {
   "cell_type": "markdown",
   "id": "74448e4f-0729-4601-89f7-2665ea963404",
   "metadata": {},
   "source": [
    "## METHODS\n",
    "\n",
    "The three columns of data we will be using from the data set are region, starting median salary, mid-career salary. Region is going to be our factor in the analysis, and starting median salary, and mid career salary are going to be our predictors. The significance of starting median salary and mid career salary is the combination gives a more holistic view of alumni’s salary as people who graduated from the top colleges are likely to receive higher average salary at the start but for those who did not go to those colleges, they might start with lower average salary but eventually hit that bar. This creates a unique pattern of identification for the type of colleges, which is also impacted by the regions of the colleges (higher paying places vs. lower paying places) a person went to when performing the classification, allowing for higher accuracy during the test. As stated above, we will create a K-nearest neighbors classification model with the region as factor and the two salary types as the predictors. Before this, we’ll follow the conventions of subsetting our data set into 5 proportionate subset, each will be tested against the remaining 80% of the data for training of internal consistency, and yield the best possible K. We’ll then use this K value for classification of a newly observed data set provided in another sheet from the website.\n",
    "\n",
    "### Visualization\n",
    "We’ll be generating a confusion matrix that helps to visualize the number of correct predictions and false predictions. From here, we’re going to be able to assess the accuracy of the model in terms of its accuracy, precision, and recall by defining the positive object.\n"
   ]
  },
  {
   "cell_type": "markdown",
   "id": "fea59cfb-fa55-46ef-a7ea-0331d5163402",
   "metadata": {},
   "source": [
    "## EXPECTED OUTCOMES AND SIGNIFICANCE\n",
    "\n",
    "### Expected Outcomes\n",
    "We could find that some regions have a higher starting salary than other regions, so we can generalize and assume that a higher starting salary/middle salary would correlate to those specific regions \n",
    "\n",
    "### Impact of findings\n",
    "We can use these findings as guidance strategies for educational investments and career guidance to enhance economic growth. Furthermore, providing students with region-specific salary data will allow them to make better-informed decisions about their education and take a proactive approach toward career planning for long-term success.\n",
    "\n",
    "### Future question\n",
    "Future research could explore the effects of industry distribution, local economies, and cost of living on regional salary outcomes for graduates.\n",
    "\n",
    "\n"
   ]
  },
  {
   "cell_type": "code",
   "execution_count": null,
   "id": "3bbe7e38-c4de-4a4e-8ea1-9706fb406735",
   "metadata": {},
   "outputs": [],
   "source": []
  }
 ],
 "metadata": {
  "kernelspec": {
   "display_name": "R",
   "language": "R",
   "name": "ir"
  },
  "language_info": {
   "codemirror_mode": "r",
   "file_extension": ".r",
   "mimetype": "text/x-r-source",
   "name": "R",
   "pygments_lexer": "r",
   "version": "4.3.1"
  }
 },
 "nbformat": 4,
 "nbformat_minor": 5
}
